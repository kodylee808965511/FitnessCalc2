{
  "cells": [
    {
      "cell_type": "markdown",
      "metadata": {
        "id": "5RdcLcQw-dKm"
      },
      "source": [
        "# CPSC 375 Classwork - Introduction to Python\n",
        "\n",
        "[![Open In Colab](https://colab.research.google.com/assets/colab-badge.svg)](https://colab.research.google.com/github/ProfAvery/cpsc375-classwork/blob/main/python.ipynb)\n",
        "\n",
        "- *Manager*:\n",
        "- *Recorder*:\n",
        "- *Presenter*:\n",
        "- *Timekeeper*:"
      ]
    },
    {
      "cell_type": "markdown",
      "metadata": {
        "id": "g5vbGdxt-dKn"
      },
      "source": [
        "*Note*: On Google Colab, run the following code cell to download the `cpsc375` module before trying to `import`:"
      ]
    },
    {
      "cell_type": "code",
      "execution_count": null,
      "metadata": {
        "id": "FeHjepSa-dKo"
      },
      "outputs": [],
      "source": [
        "!mkdir -p ./cpsc375 && wget --quiet --timestamping https://raw.githubusercontent.com/ProfAvery/cpsc375-classwork/refs/heads/main/cpsc375/__init__.py --output-document=./cpsc375/__init__.py"
      ]
    },
    {
      "cell_type": "code",
      "execution_count": null,
      "metadata": {
        "id": "Zfy1VUng-dKo"
      },
      "outputs": [],
      "source": [
        "from cpsc375 import *"
      ]
    },
    {
      "cell_type": "markdown",
      "metadata": {
        "id": "oqcgDe9X-dKp"
      },
      "source": [
        "## Part 1 - Slides 21-23"
      ]
    },
    {
      "cell_type": "markdown",
      "metadata": {
        "id": "Xn8Pv8i5-dKp"
      },
      "source": [
        "Calculate the mean of values: 1, 2, 5"
      ]
    },
    {
      "cell_type": "code",
      "execution_count": 3,
      "metadata": {
        "id": "48WmjkLl-dKp",
        "outputId": "283ed4b1-0b10-430d-affd-c2130d1be872",
        "colab": {
          "base_uri": "https://localhost:8080/"
        }
      },
      "outputs": [
        {
          "output_type": "stream",
          "name": "stdout",
          "text": [
            "2.6666666666666665\n"
          ]
        }
      ],
      "source": [
        "import numpy as np\n",
        "a = np.array([1, 2, 5])\n",
        "print(np.mean(a))"
      ]
    },
    {
      "cell_type": "markdown",
      "metadata": {
        "id": "WXoQUf22-dKq"
      },
      "source": [
        "Calculate the magnitude of vector (1, 2, 5)\n",
        "\n",
        "Magnitude = $\\sqrt{1^2 + 2^2 + 5^2}$"
      ]
    },
    {
      "cell_type": "code",
      "execution_count": 5,
      "metadata": {
        "id": "V2Hhfyz_-dKq",
        "outputId": "163e558d-bc18-4f92-8874-311e80ccdb7e",
        "colab": {
          "base_uri": "https://localhost:8080/"
        }
      },
      "outputs": [
        {
          "output_type": "stream",
          "name": "stdout",
          "text": [
            "5.477225575051661\n"
          ]
        }
      ],
      "source": [
        "sum = 1**2 + 2**2 + 5**2\n",
        "print(np.sqrt(sum))"
      ]
    },
    {
      "cell_type": "markdown",
      "metadata": {
        "id": "kHnAacKl-dKq"
      },
      "source": [
        "Normalize the vector\n",
        "\n",
        "*Divide each component by the magnitude (and save to a new variable)*"
      ]
    },
    {
      "cell_type": "code",
      "execution_count": null,
      "metadata": {
        "id": "YqVj9U8e-dKq"
      },
      "outputs": [],
      "source": []
    },
    {
      "cell_type": "markdown",
      "metadata": {
        "id": "bJp48YwS-dKr"
      },
      "source": [
        "Calculate the magnitude of the normalized vector"
      ]
    },
    {
      "cell_type": "code",
      "execution_count": null,
      "metadata": {
        "id": "Vn75bQKM-dKr"
      },
      "outputs": [],
      "source": []
    },
    {
      "cell_type": "markdown",
      "metadata": {
        "id": "11FSuiJM-dKr"
      },
      "source": [
        "\n",
        "Calculate the mean of 1st 100 numbers: 1, 2, …, 100"
      ]
    },
    {
      "cell_type": "code",
      "execution_count": null,
      "metadata": {
        "id": "LiHvNgaM-dKr"
      },
      "outputs": [],
      "source": []
    },
    {
      "cell_type": "markdown",
      "metadata": {
        "id": "pf5trJae-dKr"
      },
      "source": [
        "## Part 2 - Slide 33"
      ]
    },
    {
      "cell_type": "code",
      "execution_count": null,
      "metadata": {
        "id": "l7I2-lfn-dKr"
      },
      "outputs": [],
      "source": [
        "?iris_dataset\n",
        "iris.Species = iris.Species.astype(\"category\")"
      ]
    },
    {
      "cell_type": "markdown",
      "metadata": {
        "id": "maQ4p4gn-dKs"
      },
      "source": [
        "Show all rows where Species is \"setosa\""
      ]
    },
    {
      "cell_type": "code",
      "execution_count": null,
      "metadata": {
        "id": "VsosZq2P-dKs"
      },
      "outputs": [],
      "source": []
    },
    {
      "cell_type": "markdown",
      "metadata": {
        "id": "5F2SAYLz-dKs"
      },
      "source": [
        "Show all rows where Sepal.Length > 3.0 and Species is \"setosa\""
      ]
    },
    {
      "cell_type": "code",
      "execution_count": null,
      "metadata": {
        "id": "8r_8AwXC-dKs"
      },
      "outputs": [],
      "source": []
    },
    {
      "cell_type": "markdown",
      "metadata": {
        "id": "8HN9S6ou-dKs"
      },
      "source": [
        "What is the largest value of Sepal.Length?"
      ]
    },
    {
      "cell_type": "code",
      "execution_count": null,
      "metadata": {
        "id": "xChK7hbQ-dKs"
      },
      "outputs": [],
      "source": []
    },
    {
      "cell_type": "markdown",
      "metadata": {
        "id": "79cd4hAt-dKs"
      },
      "source": [
        "Which row contains this value?"
      ]
    },
    {
      "cell_type": "code",
      "execution_count": null,
      "metadata": {
        "id": "t23HhkRr-dKs"
      },
      "outputs": [],
      "source": []
    },
    {
      "cell_type": "markdown",
      "metadata": {
        "id": "RljbnTdw-dKs"
      },
      "source": [
        "What Species corresponds to this largest Sepal.Length?"
      ]
    },
    {
      "cell_type": "code",
      "execution_count": null,
      "metadata": {
        "id": "-QnzL6ZM-dKs"
      },
      "outputs": [],
      "source": []
    },
    {
      "cell_type": "markdown",
      "metadata": {
        "id": "u_BYTcBJ-dKs"
      },
      "source": [
        "## Part 3 - Slide 37"
      ]
    },
    {
      "cell_type": "markdown",
      "metadata": {
        "id": "ovy1puQk-dKt"
      },
      "source": [
        "Consider the data airquality\n",
        "\n",
        "- How many rows, columns, what are the variable names?"
      ]
    },
    {
      "cell_type": "code",
      "execution_count": null,
      "metadata": {
        "id": "5ARncr0r-dKt"
      },
      "outputs": [],
      "source": []
    },
    {
      "cell_type": "markdown",
      "metadata": {
        "id": "et_5248J-dKt"
      },
      "source": [
        "Are there any NAs in column Ozone?\n",
        "- How many NAs in column Ozone?\n",
        "- Which rows have NAs in column Ozone?"
      ]
    },
    {
      "cell_type": "code",
      "execution_count": null,
      "metadata": {
        "id": "dJI7fiV3-dKt"
      },
      "outputs": [],
      "source": []
    },
    {
      "cell_type": "markdown",
      "metadata": {
        "id": "OX0NdRYb-dKt"
      },
      "source": [
        "What is the mean of the Ozone variable?"
      ]
    },
    {
      "cell_type": "code",
      "execution_count": null,
      "metadata": {
        "id": "_9LVgOy0-dKt"
      },
      "outputs": [],
      "source": []
    }
  ],
  "metadata": {
    "kernelspec": {
      "display_name": "cpsc375-python",
      "language": "python",
      "name": "python3"
    },
    "language_info": {
      "codemirror_mode": {
        "name": "ipython",
        "version": 3
      },
      "file_extension": ".py",
      "mimetype": "text/x-python",
      "name": "python",
      "nbconvert_exporter": "python",
      "pygments_lexer": "ipython3",
      "version": "3.11.7"
    },
    "colab": {
      "provenance": []
    }
  },
  "nbformat": 4,
  "nbformat_minor": 0
}